{
  "nbformat": 4,
  "nbformat_minor": 0,
  "metadata": {
    "kernelspec": {
      "display_name": "Python 3",
      "language": "python",
      "name": "python3"
    },
    "language_info": {
      "codemirror_mode": {
        "name": "ipython",
        "version": 3
      },
      "file_extension": ".py",
      "mimetype": "text/x-python",
      "name": "python",
      "nbconvert_exporter": "python",
      "pygments_lexer": "ipython3",
      "version": "3.6.13"
    },
    "colab": {
      "provenance": [],
      "include_colab_link": true
    },
    "accelerator": "GPU"
  },
  "cells": [
    {
      "cell_type": "markdown",
      "metadata": {
        "id": "view-in-github",
        "colab_type": "text"
      },
      "source": [
        "<a href=\"https://colab.research.google.com/github/yamashitafumihiro/machine_learning/blob/visual/transfer_learning_penguins.ipynb\" target=\"_parent\"><img src=\"https://colab.research.google.com/assets/colab-badge.svg\" alt=\"Open In Colab\"/></a>"
      ]
    },
    {
      "cell_type": "code",
      "metadata": {
        "id": "tIJpQ1ueGX5C"
      },
      "source": [
        "%matplotlib inline"
      ],
      "execution_count": null,
      "outputs": []
    },
    {
      "cell_type": "code",
      "metadata": {
        "id": "MzD2E6xDGX5Z"
      },
      "source": [
        "# License: BSD\n",
        "# Author: Sasank Chilamkurthy\n",
        "\n",
        "from __future__ import print_function, division\n",
        "\n",
        "import torch\n",
        "import torch.nn as nn\n",
        "import torch.optim as optim\n",
        "from torch.optim import lr_scheduler\n",
        "import numpy as np\n",
        "import torchvision\n",
        "from torchvision import datasets, models, transforms\n",
        "import matplotlib.pyplot as plt\n",
        "import time\n",
        "import os\n",
        "import copy\n",
        "\n",
        "plt.ion()   # interactive mode"
      ],
      "execution_count": null,
      "outputs": []
    },
    {
      "cell_type": "code",
      "source": [
        "!pip install icrawler"
      ],
      "metadata": {
        "colab": {
          "base_uri": "https://localhost:8080/"
        },
        "id": "uqE--2P-klkj",
        "outputId": "555aa905-e2c8-4828-f367-8debc09f1b3a"
      },
      "execution_count": null,
      "outputs": [
        {
          "output_type": "stream",
          "name": "stdout",
          "text": [
            "Collecting icrawler\n",
            "  Downloading icrawler-0.6.7-py3-none-any.whl (34 kB)\n",
            "Requirement already satisfied: pyyaml in /usr/local/lib/python3.10/dist-packages (from icrawler) (6.0)\n",
            "Installing collected packages: icrawler\n",
            "Successfully installed icrawler-0.6.7\n"
          ]
        }
      ]
    },
    {
      "cell_type": "code",
      "source": [
        "from icrawler.builtin import BingImageCrawler\n",
        "\n",
        "# マゼランペンギンの画像を100枚取得\n",
        "# より多くの画像を取得するためと正確性のためにkeywordには学名を指定\n",
        "crawler = BingImageCrawler(storage={\"root_dir\": \"マゼランペンギン\"})\n",
        "crawler.crawl(keyword=\"Spheniscus magellanicus\", max_num=1000)"
      ],
      "metadata": {
        "colab": {
          "base_uri": "https://localhost:8080/"
        },
        "id": "9ekmPJV0kfC1",
        "outputId": "a3293749-af8d-4935-f217-a386dc880f8f"
      },
      "execution_count": null,
      "outputs": [
        {
          "output_type": "stream",
          "name": "stderr",
          "text": [
            "ERROR:downloader:Response status code 403, file https://pics.davesgarden.com/pics/2018/04/17/Kell/debde8.jpg\n",
            "ERROR:downloader:Response status code 404, file https://upload.wikimedia.org/wikipedia/commons/thumb/6/6a/Spheniscus_magellanicus_Oceanario.jpg\n",
            "ERROR:downloader:Response status code 400, file https://img.pixers.pics/pho_wat(s3:700/FO/59/82/86/77/700_FO59828677_66f6bf836433734e0859e451df7d020f.jpg\n",
            "ERROR:downloader:Response status code 404, file https://live.staticflickr.com/2407/2222742947_e9115b31cd_b.jpg\n",
            "ERROR:downloader:Response status code 403, file https://pics.davesgarden.com/pics/2018/04/17/Kell/eb15ce.jpg\n"
          ]
        }
      ]
    },
    {
      "cell_type": "code",
      "metadata": {
        "id": "mXkdhBIsJfPR",
        "colab": {
          "base_uri": "https://localhost:8080/"
        },
        "outputId": "a595d7f5-8dc4-4766-e7b8-c82bd3f5e1fe"
      },
      "source": [
        "!unzip penguins.zip"
      ],
      "execution_count": null,
      "outputs": [
        {
          "output_type": "stream",
          "name": "stdout",
          "text": [
            "Archive:  penguins.zip\n",
            "   creating: penguins/train/\n",
            "   creating: penguins/train/humboldti/\n",
            "  inflating: penguins/train/humboldti/1.humboldt_penguin_spheniscus_humboldti_newquay_zoo.jpg  \n",
            "  inflating: penguins/train/humboldti/10.humboldt-penguin-cute-nature-zoo-spheniscus-humboldti-animal-bird-feathers-wildlife-portrait.jpg  \n",
            "  inflating: penguins/train/humboldti/11.62140712.jpg  \n",
            "  inflating: penguins/train/humboldti/12.900.jpg  \n",
            "  inflating: penguins/train/humboldti/13.humboldt-penguin-spheniscus-humboldti-picture-id483573157.jpg  \n",
            "  inflating: penguins/train/humboldti/14.68262120.jpg  \n",
            "  inflating: penguins/train/humboldti/15.60217050.jpg  \n",
            "  inflating: penguins/train/humboldti/16.depositphotos_10887130-stock-photo-humboldt-penguins-spheniscus-humboldti-standing.jpg  \n",
            "  inflating: penguins/train/humboldti/17.2010_010_1966.jpg  \n",
            "  inflating: penguins/train/humboldti/18.70792085.jpg  \n",
            "  inflating: penguins/train/humboldti/19.depositphotos_146716193-stock-photo-humboldt-penguin-spheniscus-humboldti.jpg  \n",
            "  inflating: penguins/train/humboldti/2.humboldt_penguin_1.jpg  \n",
            "  inflating: penguins/train/humboldti/20.manchot.de.humboldt.pain.4g.jpg  \n",
            "  inflating: penguins/train/humboldti/21.humboldt-penguin-spheniscus-humboldti-stock-photos_csp77364539.jpg  \n",
            "  inflating: penguins/train/humboldti/22.humboldt-penguin-penguin-water-bird-humboldt-spheniscus-humboldti-bird-animal.jpg  \n",
            "  inflating: penguins/train/humboldti/23.75103686.jpg  \n",
            "  inflating: penguins/train/humboldti/24.depositphotos_224614366-stock-photo-humboldt-penguin-spheniscus-humboldti-eating.jpg  \n",
            "  inflating: penguins/train/humboldti/25.4034591.jpg  \n",
            "  inflating: penguins/train/humboldti/26.humboldt-penguin-spheniscus-humboldti-or-peruvian-penguin-picture-id1141256054.jpg  \n",
            "  inflating: penguins/train/humboldti/27.humboldt-penguin-spheniscus-humboldti-also-called-peruvian-penguin-or-patranca-on-the-rocks-of-a-cliff_52812-1940.jpg  \n",
            "  inflating: penguins/train/humboldti/28.a-humboldt-penguin-spheniscus-humboldti-also-called-peruvian-penguin-or-patranca-on-the-rocks-of-a-cliff-2e50n0a.jpg  \n",
            "  inflating: penguins/train/humboldti/29.canvas-prints-the-humboldt-penguin-spheniscus-humboldti.jpg  \n",
            "  inflating: penguins/train/humboldti/3.spheniscus_humboldti_20070116.jpg  \n",
            "  inflating: penguins/train/humboldti/30.42255041-humboldt-penguin-spheniscus-humboldti-also-known-as-the-chilean-penguin-wildlife-animal-.jpg  \n",
            "  inflating: penguins/train/humboldti/31.humboldt-penguin-spheniscus-humboldti-park-humboldt-penguin-spheniscus-humboldti-also-termed-peruvian-penguin-patranca-232930815.jpg  \n",
            "  inflating: penguins/train/humboldti/32.humboldt-penguin-spheniscus-humboldti-or-peruvian-penguin-picture-id1141256440.jpg  \n",
            "  inflating: penguins/train/humboldti/33.humboldt-penguin-spheniscus-humboldti-stock-photograph_csp66614395.jpg  \n",
            "  inflating: penguins/train/humboldti/34.61677390.jpg  \n",
            "  inflating: penguins/train/humboldti/35.humboldt-penguin-spheniscus-humboldti-adult-climbing-down-cliff-pucusana-peru-march-2bg55hx.jpg  \n",
            "  inflating: penguins/train/humboldti/36.wx0m89.jpg  \n",
            "  inflating: penguins/train/humboldti/37.humboldt-penguin-spheniscus-humboldti-front-white-background-131661659.jpg  \n",
            "  inflating: penguins/train/humboldti/38.penguins_water_467913.jpg  \n",
            "  inflating: penguins/train/humboldti/39.humboldt-penguin-spheniscus-humboldti_137628-216.jpg  \n",
            "  inflating: penguins/train/humboldti/4.spheniscus_humboldti_-berlin_zoo-8a.jpg  \n",
            "  inflating: penguins/train/humboldti/40.humboldt-penguin-spheniscus-humboldti-stock-image_csp62972060.jpg  \n",
            "  inflating: penguins/train/humboldti/41.humboldt-penguin-spheniscus-humboldti-picture-id625161400.jpg  \n",
            "  inflating: penguins/train/humboldti/42.00535346.jpg  \n",
            "  inflating: penguins/train/humboldti/43.ma_-_spheniscus_humboldti_-_4.jpg  \n",
            "  inflating: penguins/train/humboldti/44.hiperdino200300947.jpg  \n",
            "  inflating: penguins/train/humboldti/45.0c789a0268b08f6bad6db3c1c4959781--penguins-image.jpg  \n",
            "  inflating: penguins/train/humboldti/46.humboldt-penguin-spheniscus-humboldti-2g419b6.jpg  \n",
            "  inflating: penguins/train/humboldti/47.31061846.jpg  \n",
            "  inflating: penguins/train/humboldti/48.68262135.jpg  \n",
            "  inflating: penguins/train/humboldti/49.humboldt-penguin-spheniscus-humboldti-stock-photo_csp62741344.jpg  \n",
            "  inflating: penguins/train/humboldti/5.humboldt_penguin_%28spheniscus_humboldti%29-upper_body.jpg  \n",
            "  inflating: penguins/train/humboldti/50.humboldt-penguin-spheniscus-humboldti-also-called-peruvian-penguin-or-patranca-on-the-rocks-of-a-cliff_52812-1839.jpg  \n",
            "  inflating: penguins/train/humboldti/51.humboldt-penguin-spheniscus-humboldti-zoo-also-termed-peruvian-patranca-south-american-breeds-coastal-chile-171767948.jpg  \n",
            "  inflating: penguins/train/humboldti/52.spheniscus-humboldti-humboldt-penguin-picture-id954915496.jpg  \n",
            "  inflating: penguins/train/humboldti/53.depositphotos_129010356-stock-photo-humboldt-penguin-spheniscus-humboldti-with.jpg  \n",
            "  inflating: penguins/train/humboldti/54.humboldt-penguin-spheniscus-humboldti-peruvian-penguin-patranca-b6namr.jpg  \n",
            "  inflating: penguins/train/humboldti/55.29075838173_d9c538a0c9_b.jpg  \n",
            "  inflating: penguins/train/humboldti/56.ma_-_spheniscus_humboldti_-_3.jpg  \n",
            "  inflating: penguins/train/humboldti/57.humboldt-penguin-spheniscus-humboldti-katherine-holloway-lbipp.jpg  \n",
            "  inflating: penguins/train/humboldti/58.inline_image_preview.jpg  \n",
            "  inflating: penguins/train/humboldti/59.spheniscus-humboldti-humboldt-penguin-vector-33966281.jpg  \n",
            "  inflating: penguins/train/humboldti/6.spheniscus_humboldti.jpg  \n",
            "  inflating: penguins/train/humboldti/60.73795829.jpg  \n",
            "  inflating: penguins/train/humboldti/61.135837241-humboldt-penguin-spheniscus-humboldti-in-barcelona-zoo-.jpg  \n",
            "  inflating: penguins/train/humboldti/62.humboldt-penguin-spheniscus-humboldti-in-captivity-picture-id1084644944.jpg  \n",
            "  inflating: penguins/train/humboldti/63.68262099.jpg  \n",
            "  inflating: penguins/train/humboldti/64.group-three-humboldt-penguins-spheniscus-humboldti-isolated-white-background-penguin-south-american-penguin-143956363.jpg  \n",
            "  inflating: penguins/train/humboldti/65.1800.jpg  \n",
            "  inflating: penguins/train/humboldti/66.humboldt-penguin-spheniscus-humboldti-also-called-peruvian-penguin-patranca-rocks-cliff_52812-1893.jpg  \n",
            "  inflating: penguins/train/humboldti/67.humboldt-penguin-spheniscus-humboldti-welsh-mountain-zoo-north-wales-picture-id566447719.jpg  \n",
            "  inflating: penguins/train/humboldti/68.humboldt-penguin-spheniscus-humboldti-picture-id498464064.jpg  \n",
            "  inflating: penguins/train/humboldti/69.humboldt-penguin-spheniscus-humboldti-stock-photo_csp70506346.jpg  \n",
            "  inflating: penguins/train/humboldti/7.humboldt-penguin-spheniscus-humboldti-picture-id485802018.jpg  \n",
            "  inflating: penguins/train/humboldti/70.humboldt-penguin-spheniscus-humboldti-katherine-holloway-lbipp.jpg  \n",
            "  inflating: penguins/train/humboldti/71.humbodt-penguin-or-peruvian-penguin-spheniscus-humboldti-hellabrunn-e49t68.jpg  \n",
            "  inflating: penguins/train/humboldti/72.humboldt_penguin_2.jpg  \n",
            "  inflating: penguins/train/humboldti/73.w.jpg  \n",
            "  inflating: penguins/train/humboldti/74.ma_-_spheniscus_humboldti_-_6.jpg  \n",
            "  inflating: penguins/train/humboldti/75.29619306911_5afcb76ce2_b.jpg  \n",
            "  inflating: penguins/train/humboldti/76.5188819_450_450_83592_0_fill_0_a3f7e1e908f184db14190c1661e641ba.jpg  \n",
            "  inflating: penguins/train/humboldti/77.stock-photo-spheniscus-humboldti-humboldt-penguin-also-termed-chilean-penguin-peruvian-penguin-or-patranca-631379510.jpg  \n",
            "  inflating: penguins/train/humboldti/78.close-up-portrait-humboldt-penguin-1602103.jpg  \n",
            "  inflating: penguins/train/humboldti/79.135837227-humboldt-penguin-spheniscus-humboldti-in-barcelona-zoo-.jpg  \n",
            "  inflating: penguins/train/humboldti/8.01543037793.jpg  \n",
            "  inflating: penguins/train/humboldti/80.collage-set-humboldt-penguin-spheniscus-humboldti-photos-195410895.jpg  \n",
            "  inflating: penguins/train/humboldti/81.depositphotos_184061314-stock-photo-humboldt-penguin-spheniscus-humboldti-isolated.jpg  \n",
            "  inflating: penguins/train/humboldti/82.257227129.jpg  \n",
            "  inflating: penguins/train/humboldti/83.70792128.jpg  \n",
            "  inflating: penguins/train/humboldti/84.zon-15274241.jpg  \n",
            "  inflating: penguins/train/humboldti/85.90853296.jpg  \n",
            "  inflating: penguins/train/humboldti/86.humboldt_penguin-william-warby-cc.jpg  \n",
            "  inflating: penguins/train/humboldti/87.humboldt-penguin-spheniscus-humboldti-or-peruvian-penguin-picture-id1141256261.jpg  \n",
            "  inflating: penguins/train/humboldti/88.hum-01.jpg  \n",
            "  inflating: penguins/train/humboldti/89.humboldt-penguin-spheniscus-humboldti-eating-fish-c8a312.jpg  \n",
            "  inflating: penguins/train/humboldti/9.61677392.jpg  \n",
            "  inflating: penguins/train/humboldti/90.50138893302_4e92c6bb86_b.jpg  \n",
            "  inflating: penguins/train/humboldti/91.close-up-portrait-of-humboldt-penguin-(spheniscus-humboldti)-wil.jpg&size=1024.jpg  \n",
            "  inflating: penguins/train/humboldti/92.humboldt-penguin-spheniscus-humboldti-in-the-zoo.jpg  \n",
            "  inflating: penguins/train/humboldti/93.humboldt-penguin-spheniscus-humboldti-bird-family-black-beak-living-mainly-chile-peru-171882836.jpg  \n",
            "  inflating: penguins/train/humboldti/94.73343732-humboldt-penguin-peruvian-penguin-spheniscus-humboldti.jpg  \n",
            "  inflating: penguins/train/humboldti/95.68262154.jpg  \n",
            "  inflating: penguins/train/humboldti/96.humboldt-penguin-spheniscus-humboldti-picture_csp63091271.jpg  \n",
            "  inflating: penguins/train/humboldti/97.01543019420.jpg  \n",
            "  inflating: penguins/train/humboldti/98.zon-15340915.jpg  \n",
            "  inflating: penguins/train/humboldti/99.spheniscus_humboldti_%28humboldt-pinguine_-_humboldt_penguins%29_-_weltvogelpark_walsrode_2013-01.jpg  \n",
            "   creating: penguins/train/magellanicus/\n",
            "  inflating: penguins/train/magellanicus/1.ping%c3%bcino-patag%c3%b3nico-magellanic-penguin-spheniscus-magellanicus.jpg  \n",
            "  inflating: penguins/train/magellanicus/10.1200.jpg  \n",
            "  inflating: penguins/train/magellanicus/11.00000005026.jpg  \n",
            "  inflating: penguins/train/magellanicus/12.magellanic-penguin-spheniscus-magellanicus-leopard-beach-carcass-picture-id1206521050.jpg  \n",
            "  inflating: penguins/train/magellanicus/13.fyi03799863.jpg  \n",
            "  inflating: penguins/train/magellanicus/14.56228324-magellanic-penguin-spheniscus-magellanicus-as-seen-in-the-wild-in-patagonian-argentina-at-punta-tomb.jpg  \n",
            "  inflating: penguins/train/magellanicus/15.magellanic-penguin-spheniscus-magellanicus-15232098.jpg  \n",
            "  inflating: penguins/train/magellanicus/16.magellanic-penguin-01.jpg  \n",
            "  inflating: penguins/train/magellanicus/17.manchot.de.magellan.mafa.2g.jpg  \n",
            "  inflating: penguins/train/magellanicus/18.d246_44_025_1200.jpg  \n",
            "  inflating: penguins/train/magellanicus/19.magellanic-penguin-spheniscus-magellanicus-19339817.jpg  \n",
            "  inflating: penguins/train/magellanicus/2.manchot.de.magellan.phma.2g.jpg  \n",
            "  inflating: penguins/train/magellanicus/20.292817-magellanic-penguin-spheniscus-magellanicus-.jpg  \n",
            "  inflating: penguins/train/magellanicus/21.bird-magellanic-penguin-spheniscus-magellanicus-8919729.jpg  \n",
            "  inflating: penguins/train/magellanicus/22.magellanic_penguin_at_sf_zoo.jpg  \n",
            "  inflating: penguins/train/magellanicus/23.magellanic-penguin-spheniscus-magellanicus-sea-260nw-1789788344.jpg  \n",
            "  inflating: penguins/train/magellanicus/24.magellanic-penguin-spheniscus-magellanicus-falkland-islands-rptcxw.jpg  \n",
            "  inflating: penguins/train/magellanicus/25.4163-9280.jpg  \n",
            "  inflating: penguins/train/magellanicus/26.magellanic-penguin-spheniscus-magellanicus-bird-animal-cute-arctic-wild-life-nature-beautiful.jpg  \n",
            "  inflating: penguins/train/magellanicus/27.fyletto190400078.jpg  \n",
            "  inflating: penguins/train/magellanicus/28.ping%c3%bcino_de_magallanes%2c_spheniscus_magellanicus%2c_en_la_isla_magdalena%2c_en_el_estrecho_de_magallanes%2c_sur_de_chile.jpg  \n",
            "  inflating: penguins/train/magellanicus/29.depositphotos_17123805-stock-photo-magellanic-penguin-spheniscus-magellanicus.jpg  \n",
            "  inflating: penguins/train/magellanicus/3.magellanic_penguin_%28spheniscus_magellanicus%29_-adult_and_2_chicks.jpg  \n",
            "  inflating: penguins/train/magellanicus/30.25018817.jpg  \n",
            "  inflating: penguins/train/magellanicus/31.argentina-patagonia-magellanic-penguin-20123938.jpg  \n",
            "  inflating: penguins/train/magellanicus/32.1.jpg  \n",
            "  inflating: penguins/train/magellanicus/33.magellanic-penguin-spheniscus-magellanicus-with-chicks-at-their-nesting-burrows-at-the-penguin-sanctuary-on-magdalena-island-in-the-strait-of-magell-2b03yc7.jpg  \n",
            "  inflating: penguins/train/magellanicus/34.depositphotos_445602790-stock-photo-spheniscus-magellanicus-magellanic-penguin-sitting.jpg  \n",
            "  inflating: penguins/train/magellanicus/35.stock-photo-magellanic-penguin-spheniscus-magellanicus-407696.jpg  \n",
            "  inflating: penguins/train/magellanicus/36.spheniscus-magellanicus-magellanic-penguin-alone-beach-where-make-their-nests-near-sea-patagonia-argentina-153216791.jpg  \n",
            "  inflating: penguins/train/magellanicus/37.adult-magellanic-penguin-spheniscus-magellanicus-captured-at-punta-san-juan-peru-on-9.jpg.png  \n",
            "  inflating: penguins/train/magellanicus/38.1800.jpg  \n",
            "  inflating: penguins/train/magellanicus/39.magellanic-penguin-spheniscus-magellanicus-calling-giving-a-warning-call-patagonia-chile-south-america-rhplf07941.jpg  \n",
            "  inflating: penguins/train/magellanicus/4.01.4-magellanic-penguin-spheniscus-magellanicus.jpg  \n",
            "  inflating: penguins/train/magellanicus/40.15680913.jpg  \n",
            "  inflating: penguins/train/magellanicus/41.bird-picture-magellanic-penguin-(spheniscus-magellanicus)-6.jpg  \n",
            "  inflating: penguins/train/magellanicus/42.magellanic-penguin-spheniscus-magellanicus-punta-tombo-peninsula-atlantic-ocean-south-trelew-chubut-province-109450669.jpg  \n",
            "  inflating: penguins/train/magellanicus/43.stoc-407697.jpg  \n",
            "  inflating: penguins/train/magellanicus/44.5d75888ae01328c8907b7065e7fac705.jpg  \n",
            "  inflating: penguins/train/magellanicus/45.magellanic-penguin-spheniscus-magellanicus-patagonia_328046-5173.jpg  \n",
            "  inflating: penguins/train/magellanicus/46.depositphotos_184065536-stock-photo-the-magellanic-penguin-spheniscus-magellanicus.jpg  \n",
            "  inflating: penguins/train/magellanicus/47.aflo_30169676.jpg  \n",
            "  inflating: penguins/train/magellanicus/48.magellanic_penguin_(spheniscus_magellanicus).jpg  \n",
            "  inflating: penguins/train/magellanicus/49.p7150355.jpg  \n",
            "  inflating: penguins/train/magellanicus/5.35183086134_60e54ff4e4_b.jpg  \n",
            "  inflating: penguins/train/magellanicus/50.kw9fhp.jpg  \n",
            "  inflating: penguins/train/magellanicus/51.143660622-magellanic-penguin-spheniscus-magellanicus-in-grass.jpg  \n",
            "  inflating: penguins/train/magellanicus/52.59408874.jpg  \n",
            "  inflating: penguins/train/magellanicus/53.4_spheniscus_magellanicus.jpg  \n",
            "  inflating: penguins/train/magellanicus/54.mag-01.jpg  \n",
            "  inflating: penguins/train/magellanicus/55.manchot.de.magellan.phma.5g.jpg  \n",
            "  inflating: penguins/train/magellanicus/56.large.jpg  \n",
            "  inflating: penguins/train/magellanicus/57.couple-of-magellanic-penguin-spheniscus-magellanicus-isla-magdalena-patagonia-chile-with-selective-focus-px671e.jpg  \n",
            " extracting: penguins/train/magellanicus/58.spheniscus-magellanicus-magellanic-penguin-8602373.jpg  \n",
            "  inflating: penguins/train/magellanicus/59.bad9802551c402da0117439d0d1d0af4.jpg  \n",
            "  inflating: penguins/train/magellanicus/6.3843magellanicpenguin5_420h.jpg  \n",
            "  inflating: penguins/train/magellanicus/60.nesting-colony-magellanic-penguin-spheniscus-magellanicus-isla-magdalena-patagonia-chile-108165504.jpg  \n",
            "  inflating: penguins/train/magellanicus/61.magellanic-penguin-spheniscus-magellanicus-patagonia_328046-5180.jpg  \n",
            "  inflating: penguins/train/magellanicus/62.25018816.jpg  \n",
            "  inflating: penguins/train/magellanicus/63.fb37c3d9-2897-44fd-853e-9159df9b6610.jpg  \n",
            "  inflating: penguins/train/magellanicus/64.fal-2017-saunders_island%2c_falkland_islands-magellanic_penguin_%28spheniscus_magellanicus%29_01.jpg  \n",
            "  inflating: penguins/train/magellanicus/65.magellanic_penguin-3.jpg  \n",
            "  inflating: penguins/train/magellanicus/66.mag-04.jpg  \n",
            "  inflating: penguins/train/magellanicus/67.manchot.de.magellan.josm.0p.jpg  \n",
            "  inflating: penguins/train/magellanicus/68.magellanic-penguin-spheniscus-magellanicus-pair-at-nest-punta-tombo-byd6xc.jpg  \n",
            "  inflating: penguins/train/magellanicus/69.72892872-gentoo-penguin-pygoscelis-papua-magellanic-penguin-spheniscus-magellanicus-falkland-islands.jpg  \n",
            "  inflating: penguins/train/magellanicus/7.magellanic_penguin_%28spheniscus_magellanicus%29_%2815953854011%29.jpg  \n",
            "  inflating: penguins/train/magellanicus/70.stock-photo-magellanic-penguin-spheniscus-magellanicus-407678.jpg  \n",
            "  inflating: penguins/train/magellanicus/71.magellanic_penguin-2.jpg  \n",
            "  inflating: penguins/train/magellanicus/72.pair-magellanic-penguin-spheniscus-magellanicus-nesting-burrows-isla-magdalena-patagonia-chile-108165902.jpg  \n",
            "  inflating: penguins/train/magellanicus/73.magellanic-penguin-spheniscus-magellanicus-patagonia_328046-8115.jpg  \n",
            "  inflating: penguins/train/magellanicus/74.hqdefault.jpg  \n",
            "  inflating: penguins/train/magellanicus/75.original.jpeg  \n",
            "  inflating: penguins/train/magellanicus/76.125680126_dd2a711032_b.300a.jpg  \n",
            "  inflating: penguins/train/magellanicus/77.1125125.jpg  \n",
            "  inflating: penguins/train/magellanicus/78.00439880.jpg  \n",
            "  inflating: penguins/train/magellanicus/79.mag-03.jpg  \n",
            "  inflating: penguins/train/magellanicus/8.posters-magellanic-penguin-spheniscus-magellanicus.jpg  \n",
            "  inflating: penguins/train/magellanicus/80.magellanic-penguin-picture-id876593810.jpg  \n",
            "  inflating: penguins/train/magellanicus/81.ajlber180200114.jpg  \n",
            "  inflating: penguins/train/magellanicus/82.falkland-islands-sea-lion-island-magellanic-penguin-colony-magellanic-penguins-spheniscus-magellanicus-2b0a9dp.jpg  \n",
            "  inflating: penguins/train/magellanicus/83.spheniscus_magellanicus_-_adult_and_2_chicks_by_burrow.jpg  \n",
            "  inflating: penguins/train/magellanicus/84.magellanic-penguin-falkland-islands-stock-image_csp76052367.jpg  \n",
            "  inflating: penguins/train/magellanicus/85.magellanic-penguin-spheniscus-magellanicus-magellanic-penguin-spheniscus-magellanicus-lisbon-oceanarium-lisbon-116554068.jpg  \n",
            "  inflating: penguins/train/magellanicus/86.posters-magellanic-penguin-spheniscus-magellanicus.jpg  \n",
            "  inflating: penguins/train/magellanicus/87.magellanic_penguin-4.jpg  \n",
            "  inflating: penguins/train/magellanicus/88.large.jpg  \n",
            "  inflating: penguins/train/magellanicus/89.magellanic-penguin-spheniscus-magellanicus-patagonia_328046-8114.jpg  \n",
            "  inflating: penguins/train/magellanicus/9.magellanic-penguin-spheniscus-magellanicus-patagonia_328046-5174.jpg  \n",
            "  inflating: penguins/train/magellanicus/90.37514649-magellanic-penguin-spheniscus-magellanicus-in-patagonia.jpg  \n",
            "  inflating: penguins/train/magellanicus/91.magellanic-penguin-spheniscus-magellanicus-nest-5193289.jpg  \n",
            "  inflating: penguins/train/magellanicus/92.thumb.jpg  \n",
            "  inflating: penguins/train/magellanicus/93.spheniscus_magellanicus_lisbon_aquarium.jpg  \n",
            "  inflating: penguins/train/magellanicus/94.magellanic-penguin-spheniscus-magellanicus-adult-in-breeding-colony-hdbccg.jpg  \n",
            "  inflating: penguins/train/magellanicus/95.magellanic-penguin-spheniscus-magellanicus-15359407.jpg  \n",
            "  inflating: penguins/train/magellanicus/96.magellanic-penguin-spheniscus-magellanicus-young-isla-magdalena-patagonia-chile-magellanic-penguin-spheniscus-108166178.jpg  \n",
            "   creating: penguins/val/\n",
            "   creating: penguins/val/humboldti/\n",
            "  inflating: penguins/val/humboldti/000211.jpg  \n",
            "  inflating: penguins/val/humboldti/000212.jpg  \n",
            "  inflating: penguins/val/humboldti/000213.jpg  \n",
            "  inflating: penguins/val/humboldti/000214.jpg  \n",
            "  inflating: penguins/val/humboldti/000215.jpg  \n",
            "  inflating: penguins/val/humboldti/000216.jpg  \n",
            "  inflating: penguins/val/humboldti/000217.jpg  \n",
            "  inflating: penguins/val/humboldti/000218.jpg  \n",
            "  inflating: penguins/val/humboldti/000219.jpg  \n",
            "  inflating: penguins/val/humboldti/000220.jpg  \n",
            "   creating: penguins/val/magellanicus/\n",
            "  inflating: penguins/val/magellanicus/000211 (1).jpg  \n",
            "  inflating: penguins/val/magellanicus/000212 (1).jpg  \n",
            "  inflating: penguins/val/magellanicus/000213 (1).jpg  \n",
            "  inflating: penguins/val/magellanicus/000214 (1).jpg  \n",
            "  inflating: penguins/val/magellanicus/000215 (1).jpg  \n",
            "  inflating: penguins/val/magellanicus/000216 (1).jpg  \n",
            "  inflating: penguins/val/magellanicus/000217 (1).jpg  \n",
            "  inflating: penguins/val/magellanicus/000218 (1).jpg  \n",
            "  inflating: penguins/val/magellanicus/000219 (1).jpg  \n",
            "  inflating: penguins/val/magellanicus/000220 (1).jpg  \n"
          ]
        }
      ]
    },
    {
      "cell_type": "code",
      "metadata": {
        "id": "9_stN_lUMis0",
        "colab": {
          "base_uri": "https://localhost:8080/"
        },
        "outputId": "d0f04753-9e50-4329-e266-e4e4f9ffdda3"
      },
      "source": [],
      "execution_count": null,
      "outputs": [
        {
          "output_type": "stream",
          "name": "stdout",
          "text": [
            "/content\n"
          ]
        }
      ]
    },
    {
      "cell_type": "markdown",
      "metadata": {
        "id": "xy46MfkzGX5c"
      },
      "source": [
        "Load Data\n",
        "---------\n",
        "\n",
        "We will use torchvision and torch.utils.data packages for loading the\n",
        "data.\n",
        "\n",
        "The problem we're going to solve today is to train a model to classify\n",
        "**ants** and **bees**. We have about 120 training images each for ants and bees.\n",
        "There are 75 validation images for each class. Usually, this is a very\n",
        "small dataset to generalize upon, if trained from scratch. Since we\n",
        "are using transfer learning, we should be able to generalize reasonably\n",
        "well.\n",
        "\n",
        "This dataset is a very small subset of imagenet.\n",
        "\n",
        ".. Note ::\n",
        "   Download the data from\n",
        "   `here <https://download.pytorch.org/tutorial/hymenoptera_data.zip>`_\n",
        "   and extract it to the current directory.\n",
        "\n"
      ]
    },
    {
      "cell_type": "code",
      "metadata": {
        "id": "62wdK36-GX5f",
        "colab": {
          "base_uri": "https://localhost:8080/"
        },
        "outputId": "abbef077-bb4d-4318-d5eb-a96e1930ecac"
      },
      "source": [
        "# Data augmentation and normalization for training\n",
        "# Just normalization for validation\n",
        "data_transforms = {\n",
        "    'train': transforms.Compose([\n",
        "        transforms.RandomResizedCrop(224),\n",
        "        transforms.RandomHorizontalFlip(),\n",
        "        transforms.ToTensor(),\n",
        "        transforms.Normalize([0.485, 0.456, 0.406], [0.229, 0.224, 0.225])\n",
        "    ]),\n",
        "    'val': transforms.Compose([\n",
        "        transforms.Resize(256),\n",
        "        transforms.CenterCrop(224),\n",
        "        transforms.ToTensor(),\n",
        "        transforms.Normalize([0.485, 0.456, 0.406], [0.229, 0.224, 0.225])\n",
        "    ]),\n",
        "}\n",
        "\n",
        "data_dir = '/content/penguins'\n",
        "image_datasets = {x: datasets.ImageFolder(os.path.join(data_dir, x),\n",
        "                                          data_transforms[x])\n",
        "                  for x in ['train', 'val']}\n",
        "dataloaders = {x: torch.utils.data.DataLoader(image_datasets[x], batch_size=4,\n",
        "                                             shuffle=True, num_workers=4)\n",
        "              for x in ['train', 'val']}\n",
        "dataset_sizes = {x: len(image_datasets[x]) for x in ['train', 'val']}\n",
        "class_names = image_datasets['train'].classes\n",
        "\n",
        "device = torch.device(\"cuda:0\" if torch.cuda.is_available() else \"cpu\")"
      ],
      "execution_count": null,
      "outputs": [
        {
          "output_type": "stream",
          "name": "stderr",
          "text": [
            "/usr/local/lib/python3.7/dist-packages/torch/utils/data/dataloader.py:481: UserWarning: This DataLoader will create 4 worker processes in total. Our suggested max number of worker in current system is 2, which is smaller than what this DataLoader is going to create. Please be aware that excessive worker creation might get DataLoader running slow or even freeze, lower the worker number to avoid potential slowness/freeze if necessary.\n",
            "  cpuset_checked))\n"
          ]
        }
      ]
    },
    {
      "cell_type": "markdown",
      "metadata": {
        "id": "3K9l_HusGX5l"
      },
      "source": [
        "Visualize a few images\n",
        "^^^^^^^^^^^^^^^^^^^^^^\n",
        "Let's visualize a few training images so as to understand the data\n",
        "augmentations.\n",
        "\n"
      ]
    },
    {
      "cell_type": "code",
      "metadata": {
        "id": "rO7S8b7YGX5o",
        "colab": {
          "base_uri": "https://localhost:8080/",
          "height": 203
        },
        "outputId": "9cf53dae-1ba7-4fd0-c8b6-223691b2bd7e"
      },
      "source": [
        "def imshow(inp, title=None):\n",
        "    \"\"\"Imshow for Tensor.\"\"\"\n",
        "    inp = inp.numpy().transpose((1, 2, 0))\n",
        "    mean = np.array([0.485, 0.456, 0.406])\n",
        "    std = np.array([0.229, 0.224, 0.225])\n",
        "    inp = std * inp + mean\n",
        "    inp = np.clip(inp, 0, 1)\n",
        "    plt.imshow(inp)\n",
        "    if title is not None:\n",
        "        plt.title(title)\n",
        "    plt.pause(0.001)  # pause a bit so that plots are updated\n",
        "\n",
        "\n",
        "# Get a batch of training data\n",
        "inputs, classes = next(iter(dataloaders['train']))\n",
        "\n",
        "# Make a grid from batch\n",
        "out = torchvision.utils.make_grid(inputs)\n",
        "\n",
        "imshow(out, title=[class_names[x] for x in classes])"
      ],
      "execution_count": null,
      "outputs": [
        {
          "output_type": "stream",
          "name": "stderr",
          "text": [
            "/usr/local/lib/python3.7/dist-packages/torch/utils/data/dataloader.py:481: UserWarning: This DataLoader will create 4 worker processes in total. Our suggested max number of worker in current system is 2, which is smaller than what this DataLoader is going to create. Please be aware that excessive worker creation might get DataLoader running slow or even freeze, lower the worker number to avoid potential slowness/freeze if necessary.\n",
            "  cpuset_checked))\n"
          ]
        },
        {
          "output_type": "display_data",
          "data": {
            "image/png": "[encoded data removed]",
            "text/plain": [
              "<Figure size 432x288 with 1 Axes>"
            ]
          },
          "metadata": {
            "needs_background": "light"
          }
        }
      ]
    },
    {
      "cell_type": "markdown",
      "metadata": {
        "id": "dWMHndq9GX5t"
      },
      "source": [
        "Training the model\n",
        "------------------\n",
        "\n",
        "Now, let's write a general function to train a model. Here, we will\n",
        "illustrate:\n",
        "\n",
        "-  Scheduling the learning rate\n",
        "-  Saving the best model\n",
        "\n",
        "In the following, parameter ``scheduler`` is an LR scheduler object from\n",
        "``torch.optim.lr_scheduler``.\n",
        "\n"
      ]
    },
    {
      "cell_type": "code",
      "metadata": {
        "id": "_M4loo40GX5x"
      },
      "source": [
        "def train_model(model, criterion, optimizer, scheduler, num_epochs=25):\n",
        "    since = time.time()\n",
        "\n",
        "    best_model_wts = copy.deepcopy(model.state_dict())\n",
        "    best_acc = 0.0\n",
        "\n",
        "    for epoch in range(num_epochs):\n",
        "        print('Epoch {}/{}'.format(epoch, num_epochs - 1))\n",
        "        print('-' * 10)\n",
        "\n",
        "        # Each epoch has a training and validation phase\n",
        "        for phase in ['train', 'val']:\n",
        "            if phase == 'train':\n",
        "                model.train()  # Set model to training mode\n",
        "            else:\n",
        "                model.eval()   # Set model to evaluate mode\n",
        "\n",
        "            running_loss = 0.0\n",
        "            running_corrects = 0\n",
        "\n",
        "            # Iterate over data.\n",
        "            for inputs, labels in dataloaders[phase]:\n",
        "                inputs = inputs.to(device)\n",
        "                labels = labels.to(device)\n",
        "\n",
        "                # zero the parameter gradients\n",
        "                optimizer.zero_grad()\n",
        "\n",
        "                # forward\n",
        "                # track history if only in train\n",
        "                with torch.set_grad_enabled(phase == 'train'):\n",
        "                    outputs = model(inputs)\n",
        "                    _, preds = torch.max(outputs, 1)\n",
        "                    loss = criterion(outputs, labels)\n",
        "\n",
        "                    # backward + optimize only if in training phase\n",
        "                    if phase == 'train':\n",
        "                        loss.backward()\n",
        "                        optimizer.step()\n",
        "\n",
        "                # statistics\n",
        "                running_loss += loss.item() * inputs.size(0)\n",
        "                running_corrects += torch.sum(preds == labels.data)\n",
        "            if phase == 'train':\n",
        "                scheduler.step()\n",
        "\n",
        "            epoch_loss = running_loss / dataset_sizes[phase]\n",
        "            epoch_acc = running_corrects.double() / dataset_sizes[phase]\n",
        "\n",
        "            print('{} Loss: {:.4f} Acc: {:.4f}'.format(\n",
        "                phase, epoch_loss, epoch_acc))\n",
        "\n",
        "            # deep copy the model\n",
        "            if phase == 'val' and epoch_acc > best_acc:\n",
        "                best_acc = epoch_acc\n",
        "                best_model_wts = copy.deepcopy(model.state_dict())\n",
        "\n",
        "        print()\n",
        "\n",
        "    time_elapsed = time.time() - since\n",
        "    print('Training complete in {:.0f}m {:.0f}s'.format(\n",
        "        time_elapsed // 60, time_elapsed % 60))\n",
        "    print('Best val Acc: {:4f}'.format(best_acc))\n",
        "\n",
        "    # load best model weights\n",
        "    model.load_state_dict(best_model_wts)\n",
        "    return model"
      ],
      "execution_count": null,
      "outputs": []
    },
    {
      "cell_type": "markdown",
      "metadata": {
        "id": "RI9d0jKDGX52"
      },
      "source": [
        "Visualizing the model predictions\n",
        "^^^^^^^^^^^^^^^^^^^^^^^^^^^^^^^^^\n",
        "\n",
        "Generic function to display predictions for a few images\n",
        "\n",
        "\n"
      ]
    },
    {
      "cell_type": "code",
      "metadata": {
        "id": "cUUPLORtGX54"
      },
      "source": [
        "def visualize_model(model, num_images=6):\n",
        "    was_training = model.training\n",
        "    model.eval()\n",
        "    images_so_far = 0\n",
        "    fig = plt.figure()\n",
        "\n",
        "    with torch.no_grad():\n",
        "        for i, (inputs, labels) in enumerate(dataloaders['val']):\n",
        "            inputs = inputs.to(device)\n",
        "            labels = labels.to(device)\n",
        "\n",
        "            outputs = model(inputs)\n",
        "            _, preds = torch.max(outputs, 1)\n",
        "\n",
        "            for j in range(inputs.size()[0]):\n",
        "                images_so_far += 1\n",
        "                ax = plt.subplot(num_images//2, 2, images_so_far)\n",
        "                ax.axis('off')\n",
        "                ax.set_title('predicted: {}'.format(class_names[preds[j]]))\n",
        "                imshow(inputs.cpu().data[j])\n",
        "\n",
        "                if images_so_far == num_images:\n",
        "                    model.train(mode=was_training)\n",
        "                    return\n",
        "        model.train(mode=was_training)"
      ],
      "execution_count": null,
      "outputs": []
    },
    {
      "cell_type": "markdown",
      "metadata": {
        "id": "psZpgRFqGX56"
      },
      "source": [
        "Finetuning the convnet\n",
        "----------------------\n",
        "\n",
        "Load a pretrained model and reset final fully connected layer.\n",
        "\n",
        "\n"
      ]
    },
    {
      "cell_type": "code",
      "metadata": {
        "id": "oSxpra57GX58"
      },
      "source": [
        "model_ft = models.resnet18(pretrained=True)\n",
        "num_ftrs = model_ft.fc.in_features\n",
        "# Here the size of each output sample is set to 2.\n",
        "# Alternatively, it can be generalized to nn.Linear(num_ftrs, len(class_names)).\n",
        "model_ft.fc = nn.Linear(num_ftrs, 2)\n",
        "\n",
        "model_ft = model_ft.to(device)\n",
        "\n",
        "criterion = nn.CrossEntropyLoss()\n",
        "\n",
        "# Observe that all parameters are being optimized\n",
        "optimizer_ft = optim.SGD(model_ft.parameters(), lr=0.001, momentum=0.9)\n",
        "\n",
        "# Decay LR by a factor of 0.1 every 7 epochs\n",
        "exp_lr_scheduler = lr_scheduler.StepLR(optimizer_ft, step_size=7, gamma=0.1)"
      ],
      "execution_count": null,
      "outputs": []
    },
    {
      "cell_type": "markdown",
      "metadata": {
        "id": "zkRpG54hGX5-"
      },
      "source": [
        "Train and evaluate\n",
        "^^^^^^^^^^^^^^^^^^\n",
        "\n",
        "It should take around 15-25 min on CPU. On GPU though, it takes less than a\n",
        "minute.\n",
        "\n",
        "\n"
      ]
    },
    {
      "cell_type": "code",
      "metadata": {
        "id": "ajunQzoeGX5_",
        "colab": {
          "base_uri": "https://localhost:8080/"
        },
        "outputId": "892f01fa-77d5-4b9d-a1d6-d545fc5904ed"
      },
      "source": [
        "model_ft = train_model(model_ft, criterion, optimizer_ft, exp_lr_scheduler,\n",
        "                       num_epochs=50)"
      ],
      "execution_count": null,
      "outputs": [
        {
          "output_type": "stream",
          "name": "stdout",
          "text": [
            "Epoch 0/24\n",
            "----------\n"
          ]
        },
        {
          "output_type": "stream",
          "name": "stderr",
          "text": [
            "/usr/local/lib/python3.7/dist-packages/torch/utils/data/dataloader.py:481: UserWarning: This DataLoader will create 4 worker processes in total. Our suggested max number of worker in current system is 2, which is smaller than what this DataLoader is going to create. Please be aware that excessive worker creation might get DataLoader running slow or even freeze, lower the worker number to avoid potential slowness/freeze if necessary.\n",
            "  cpuset_checked))\n"
          ]
        },
        {
          "output_type": "stream",
          "name": "stdout",
          "text": [
            "train Loss: 0.8215 Acc: 0.5282\n",
            "val Loss: 0.3988 Acc: 0.7500\n",
            "\n",
            "Epoch 1/24\n",
            "----------\n",
            "train Loss: 0.8240 Acc: 0.7179\n",
            "val Loss: 1.1744 Acc: 0.6500\n",
            "\n",
            "Epoch 2/24\n",
            "----------\n",
            "train Loss: 0.8361 Acc: 0.6872\n",
            "val Loss: 0.4115 Acc: 0.7500\n",
            "\n",
            "Epoch 3/24\n",
            "----------\n",
            "train Loss: 0.5645 Acc: 0.7538\n",
            "val Loss: 0.5167 Acc: 0.6500\n",
            "\n",
            "Epoch 4/24\n",
            "----------\n",
            "train Loss: 0.5090 Acc: 0.7897\n",
            "val Loss: 0.5348 Acc: 0.8000\n",
            "\n",
            "Epoch 5/24\n",
            "----------\n",
            "train Loss: 0.5738 Acc: 0.7487\n",
            "val Loss: 0.5935 Acc: 0.7500\n",
            "\n",
            "Epoch 6/24\n",
            "----------\n",
            "train Loss: 0.7414 Acc: 0.7487\n",
            "val Loss: 0.4899 Acc: 0.8000\n",
            "\n",
            "Epoch 7/24\n",
            "----------\n",
            "train Loss: 0.4640 Acc: 0.8154\n",
            "val Loss: 0.0878 Acc: 1.0000\n",
            "\n",
            "Epoch 8/24\n",
            "----------\n",
            "train Loss: 0.2574 Acc: 0.8769\n",
            "val Loss: 0.1880 Acc: 0.8500\n",
            "\n",
            "Epoch 9/24\n",
            "----------\n",
            "train Loss: 0.3723 Acc: 0.8513\n",
            "val Loss: 0.1425 Acc: 0.8500\n",
            "\n",
            "Epoch 10/24\n",
            "----------\n",
            "train Loss: 0.3648 Acc: 0.8615\n",
            "val Loss: 0.1781 Acc: 0.8500\n",
            "\n",
            "Epoch 11/24\n",
            "----------\n",
            "train Loss: 0.3980 Acc: 0.8513\n",
            "val Loss: 0.2175 Acc: 0.8500\n",
            "\n",
            "Epoch 12/24\n",
            "----------\n",
            "train Loss: 0.3891 Acc: 0.8410\n",
            "val Loss: 0.1648 Acc: 0.8500\n",
            "\n",
            "Epoch 13/24\n",
            "----------\n",
            "train Loss: 0.3685 Acc: 0.8359\n",
            "val Loss: 0.2241 Acc: 0.8500\n",
            "\n",
            "Epoch 14/24\n",
            "----------\n",
            "train Loss: 0.2890 Acc: 0.8615\n",
            "val Loss: 0.1183 Acc: 0.9500\n",
            "\n",
            "Epoch 15/24\n",
            "----------\n",
            "train Loss: 0.2295 Acc: 0.9128\n",
            "val Loss: 0.1232 Acc: 1.0000\n",
            "\n",
            "Epoch 16/24\n",
            "----------\n",
            "train Loss: 0.2379 Acc: 0.8974\n",
            "val Loss: 0.1943 Acc: 0.8500\n",
            "\n",
            "Epoch 17/24\n",
            "----------\n",
            "train Loss: 0.3092 Acc: 0.8513\n",
            "val Loss: 0.1914 Acc: 0.8500\n",
            "\n",
            "Epoch 18/24\n",
            "----------\n",
            "train Loss: 0.3505 Acc: 0.8154\n",
            "val Loss: 0.1451 Acc: 0.9000\n",
            "\n",
            "Epoch 19/24\n",
            "----------\n",
            "train Loss: 0.3028 Acc: 0.8821\n",
            "val Loss: 0.1787 Acc: 0.8500\n",
            "\n",
            "Epoch 20/24\n",
            "----------\n",
            "train Loss: 0.3447 Acc: 0.8308\n",
            "val Loss: 0.1910 Acc: 0.8500\n",
            "\n",
            "Epoch 21/24\n",
            "----------\n",
            "train Loss: 0.3016 Acc: 0.8667\n",
            "val Loss: 0.1676 Acc: 0.8500\n",
            "\n",
            "Epoch 22/24\n",
            "----------\n",
            "train Loss: 0.2738 Acc: 0.8923\n",
            "val Loss: 0.2214 Acc: 0.8500\n",
            "\n",
            "Epoch 23/24\n",
            "----------\n",
            "train Loss: 0.3035 Acc: 0.8718\n",
            "val Loss: 0.1254 Acc: 0.9000\n",
            "\n",
            "Epoch 24/24\n",
            "----------\n",
            "train Loss: 0.2409 Acc: 0.9026\n",
            "val Loss: 0.1905 Acc: 0.8500\n",
            "\n",
            "Training complete in 23m 14s\n",
            "Best val Acc: 1.000000\n"
          ]
        }
      ]
    },
    {
      "cell_type": "code",
      "metadata": {
        "colab": {
          "base_uri": "https://localhost:8080/",
          "height": 282
        },
        "id": "Y5IMMzdHzv2v",
        "outputId": "0714b480-5c49-4d04-8219-4962d82f98af"
      },
      "source": [
        "import matplotlib.pyplot as plt\n",
        "\n",
        "x = [0,1,2,3,4,5,6,7,8,9,10,11,12,13,14,15,16,17,18,19,20,21,22,23,24]\n",
        "y1 = [0.5282,0.7179,0.6872,0.7538,0.7897,0.7487,0.7487,0.8154,0.8769,0.8513,0.8615,0.8513,0.8410,0.8359,0.8615,0.9128,0.8974,0.8513,0.8154,0.8821,0.8308,0.8667,0.8923,0.8718,0.9026]\n",
        "y2 = [0.7500,0.6500,0.7500,0.6500,0.8000,0.7500,0.8000,1.0000,0.8500,0.8500,0.8500,0.8500,0.8500,0.8500,0.9500,1.0000,0.8500,0.8500,0.9000,0.8500,0.8500,0.8500,0.8500,0.9000,0.8500]\n",
        "plt.plot(x, y1, color=\"red\")\n",
        "plt.plot(x, y2, color='blue');"
      ],
      "execution_count": null,
      "outputs": [
        {
          "output_type": "execute_result",
          "data": {
            "text/plain": [
              "[<matplotlib.lines.Line2D at 0x7fa1b022c890>]"
            ]
          },
          "metadata": {},
          "execution_count": 25
        },
        {
          "output_type": "display_data",
          "data": {
            "image/png": "[encoded data removed]",
            "text/plain": [
              "<Figure size 432x288 with 1 Axes>"
            ]
          },
          "metadata": {
            "needs_background": "light"
          }
        }
      ]
    },
    {
      "cell_type": "code",
      "metadata": {
        "id": "jZCvyfCJGX6A"
      },
      "source": [
        "visualize_model(model_ft)"
      ],
      "execution_count": null,
      "outputs": []
    },
    {
      "cell_type": "markdown",
      "metadata": {
        "id": "XqeHQbWaGX6C"
      },
      "source": [
        "ConvNet as fixed feature extractor\n",
        "----------------------------------\n",
        "\n",
        "Here, we need to freeze all the network except the final layer. We need\n",
        "to set ``requires_grad == False`` to freeze the parameters so that the\n",
        "gradients are not computed in ``backward()``.\n",
        "\n",
        "You can read more about this in the documentation\n",
        "`here <https://pytorch.org/docs/notes/autograd.html#excluding-subgraphs-from-backward>`__.\n",
        "\n",
        "\n"
      ]
    },
    {
      "cell_type": "code",
      "metadata": {
        "id": "ltkM0DxqGX6D"
      },
      "source": [
        "model_conv = torchvision.models.resnet18(pretrained=True)\n",
        "for param in model_conv.parameters():\n",
        "    param.requires_grad = False\n",
        "\n",
        "# Parameters of newly constructed modules have requires_grad=True by default\n",
        "num_ftrs = model_conv.fc.in_features\n",
        "model_conv.fc = nn.Linear(num_ftrs, 2)\n",
        "\n",
        "model_conv = model_conv.to(device)\n",
        "\n",
        "criterion = nn.CrossEntropyLoss()\n",
        "\n",
        "# Observe that only parameters of final layer are being optimized as\n",
        "# opposed to before.\n",
        "optimizer_conv = optim.SGD(model_conv.fc.parameters(), lr=0.001, momentum=0.9)\n",
        "\n",
        "# Decay LR by a factor of 0.1 every 7 epochs\n",
        "exp_lr_scheduler = lr_scheduler.StepLR(optimizer_conv, step_size=7, gamma=0.1)"
      ],
      "execution_count": null,
      "outputs": []
    },
    {
      "cell_type": "markdown",
      "metadata": {
        "id": "vM-IN7iNGX6E"
      },
      "source": [
        "Train and evaluate\n",
        "^^^^^^^^^^^^^^^^^^\n",
        "\n",
        "On CPU this will take about half the time compared to previous scenario.\n",
        "This is expected as gradients don't need to be computed for most of the\n",
        "network. However, forward does need to be computed.\n",
        "\n",
        "\n"
      ]
    },
    {
      "cell_type": "code",
      "metadata": {
        "id": "Vb_Ta7H8GX6G",
        "colab": {
          "base_uri": "https://localhost:8080/"
        },
        "outputId": "56831291-9c7f-4362-a133-5a3fb22aec84"
      },
      "source": [
        "model_conv = train_model(model_conv, criterion, optimizer_conv,\n",
        "                         exp_lr_scheduler, num_epochs=25)"
      ],
      "execution_count": null,
      "outputs": [
        {
          "output_type": "stream",
          "name": "stdout",
          "text": [
            "Epoch 0/24\n",
            "----------\n"
          ]
        },
        {
          "output_type": "stream",
          "name": "stderr",
          "text": [
            "/usr/local/lib/python3.7/dist-packages/torch/utils/data/dataloader.py:481: UserWarning: This DataLoader will create 4 worker processes in total. Our suggested max number of worker in current system is 2, which is smaller than what this DataLoader is going to create. Please be aware that excessive worker creation might get DataLoader running slow or even freeze, lower the worker number to avoid potential slowness/freeze if necessary.\n",
            "  cpuset_checked))\n"
          ]
        },
        {
          "output_type": "stream",
          "name": "stdout",
          "text": [
            "train Loss: 0.7323 Acc: 0.5538\n",
            "val Loss: 0.5108 Acc: 0.8000\n",
            "\n",
            "Epoch 1/24\n",
            "----------\n",
            "train Loss: 0.5948 Acc: 0.6718\n",
            "val Loss: 0.8640 Acc: 0.5000\n",
            "\n",
            "Epoch 2/24\n",
            "----------\n",
            "train Loss: 0.5481 Acc: 0.7128\n",
            "val Loss: 0.5414 Acc: 0.6000\n",
            "\n",
            "Epoch 3/24\n",
            "----------\n",
            "train Loss: 0.4686 Acc: 0.7846\n",
            "val Loss: 0.4485 Acc: 0.6500\n",
            "\n",
            "Epoch 4/24\n",
            "----------\n",
            "train Loss: 0.6645 Acc: 0.6667\n",
            "val Loss: 0.3500 Acc: 0.9500\n",
            "\n",
            "Epoch 5/24\n",
            "----------\n",
            "train Loss: 0.4933 Acc: 0.7897\n",
            "val Loss: 0.2371 Acc: 0.9000\n",
            "\n",
            "Epoch 6/24\n",
            "----------\n",
            "train Loss: 0.5197 Acc: 0.7949\n",
            "val Loss: 0.2373 Acc: 0.9000\n",
            "\n",
            "Epoch 7/24\n",
            "----------\n",
            "train Loss: 0.3592 Acc: 0.8410\n",
            "val Loss: 0.2510 Acc: 0.9000\n",
            "\n",
            "Epoch 8/24\n",
            "----------\n",
            "train Loss: 0.4096 Acc: 0.8205\n",
            "val Loss: 0.2698 Acc: 0.9000\n",
            "\n",
            "Epoch 9/24\n",
            "----------\n",
            "train Loss: 0.4691 Acc: 0.7590\n",
            "val Loss: 0.2443 Acc: 0.9000\n",
            "\n",
            "Epoch 10/24\n",
            "----------\n",
            "train Loss: 0.4741 Acc: 0.7795\n",
            "val Loss: 0.2386 Acc: 0.9000\n",
            "\n",
            "Epoch 11/24\n",
            "----------\n",
            "train Loss: 0.4088 Acc: 0.8154\n",
            "val Loss: 0.2454 Acc: 0.9000\n",
            "\n",
            "Epoch 12/24\n",
            "----------\n",
            "train Loss: 0.4653 Acc: 0.7795\n",
            "val Loss: 0.2736 Acc: 0.9000\n",
            "\n",
            "Epoch 13/24\n",
            "----------\n",
            "train Loss: 0.4183 Acc: 0.8205\n",
            "val Loss: 0.2360 Acc: 0.9000\n",
            "\n",
            "Epoch 14/24\n",
            "----------\n",
            "train Loss: 0.4533 Acc: 0.8051\n",
            "val Loss: 0.2328 Acc: 0.9000\n",
            "\n",
            "Epoch 15/24\n",
            "----------\n",
            "train Loss: 0.4270 Acc: 0.8051\n",
            "val Loss: 0.2594 Acc: 0.9000\n",
            "\n",
            "Epoch 16/24\n",
            "----------\n",
            "train Loss: 0.4309 Acc: 0.8000\n",
            "val Loss: 0.2291 Acc: 0.9000\n",
            "\n",
            "Epoch 17/24\n",
            "----------\n",
            "train Loss: 0.4004 Acc: 0.8308\n",
            "val Loss: 0.2423 Acc: 0.9000\n",
            "\n",
            "Epoch 18/24\n",
            "----------\n",
            "train Loss: 0.3832 Acc: 0.8308\n",
            "val Loss: 0.2332 Acc: 0.9000\n",
            "\n",
            "Epoch 19/24\n",
            "----------\n",
            "train Loss: 0.3813 Acc: 0.8308\n",
            "val Loss: 0.2390 Acc: 0.9000\n",
            "\n",
            "Epoch 20/24\n",
            "----------\n",
            "train Loss: 0.3970 Acc: 0.8410\n",
            "val Loss: 0.2289 Acc: 0.9000\n",
            "\n",
            "Epoch 21/24\n",
            "----------\n",
            "train Loss: 0.4083 Acc: 0.8308\n",
            "val Loss: 0.2469 Acc: 0.9000\n",
            "\n",
            "Epoch 22/24\n",
            "----------\n",
            "train Loss: 0.3507 Acc: 0.8205\n",
            "val Loss: 0.2274 Acc: 0.9000\n",
            "\n",
            "Epoch 23/24\n",
            "----------\n",
            "train Loss: 0.3954 Acc: 0.8410\n",
            "val Loss: 0.2436 Acc: 0.9000\n",
            "\n",
            "Epoch 24/24\n",
            "----------\n",
            "train Loss: 0.3817 Acc: 0.8051\n",
            "val Loss: 0.2528 Acc: 0.9000\n",
            "\n",
            "Training complete in 3m 5s\n",
            "Best val Acc: 0.950000\n"
          ]
        }
      ]
    },
    {
      "cell_type": "code",
      "metadata": {
        "id": "DmMtJqFKGX6I",
        "colab": {
          "base_uri": "https://localhost:8080/",
          "height": 636
        },
        "outputId": "fd702e59-7ef4-44f2-d73a-901576b93ee1"
      },
      "source": [
        "visualize_model(model_conv)\n",
        "\n",
        "plt.ioff()\n",
        "plt.show()"
      ],
      "execution_count": null,
      "outputs": [
        {
          "output_type": "stream",
          "name": "stderr",
          "text": [
            "/usr/local/lib/python3.7/dist-packages/torch/utils/data/dataloader.py:481: UserWarning: This DataLoader will create 4 worker processes in total. Our suggested max number of worker in current system is 2, which is smaller than what this DataLoader is going to create. Please be aware that excessive worker creation might get DataLoader running slow or even freeze, lower the worker number to avoid potential slowness/freeze if necessary.\n",
            "  cpuset_checked))\n"
          ]
        },
        {
          "output_type": "display_data",
          "data": {
            "image/png": "[encoded data removed]",
            "text/plain": [
              "<Figure size 432x288 with 1 Axes>"
            ]
          },
          "metadata": {
            "needs_background": "light"
          }
        },
        {
          "output_type": "display_data",
          "data": {
            "image/png": "[encoded data removed]",
            "text/plain": [
              "<Figure size 432x288 with 1 Axes>"
            ]
          },
          "metadata": {
            "needs_background": "light"
          }
        },
        {
          "output_type": "display_data",
          "data": {
            "image/png": "[encoded data removed]",
            "text/plain": [
              "<Figure size 432x288 with 1 Axes>"
            ]
          },
          "metadata": {
            "needs_background": "light"
          }
        },
        {
          "output_type": "display_data",
          "data": {
            "image/png": "[encoded data removed]",
            "text/plain": [
              "<Figure size 432x288 with 1 Axes>"
            ]
          },
          "metadata": {
            "needs_background": "light"
          }
        },
        {
          "output_type": "display_data",
          "data": {
            "image/png": "[encoded data removed]",
            "text/plain": [
              "<Figure size 432x288 with 1 Axes>"
            ]
          },
          "metadata": {
            "needs_background": "light"
          }
        },
        {
          "output_type": "display_data",
          "data": {
            "image/png": "[encoded data removed]",
            "text/plain": [
              "<Figure size 432x288 with 1 Axes>"
            ]
          },
          "metadata": {
            "needs_background": "light"
          }
        }
      ]
    },
    {
      "cell_type": "markdown",
      "metadata": {
        "id": "8eDzOoxTGX6J"
      },
      "source": [
        "Further Learning\n",
        "-----------------\n",
        "\n",
        "If you would like to learn more about the applications of transfer learning,\n",
        "checkout our `Quantized Transfer Learning for Computer Vision Tutorial <https://pytorch.org/tutorials/intermediate/quantized_transfer_learning_tutorial.html>`_.\n",
        "\n",
        "\n",
        "\n"
      ]
    },
    {
      "cell_type": "code",
      "metadata": {
        "id": "Jjm6FOHxQQeA",
        "colab": {
          "base_uri": "https://localhost:8080/"
        },
        "outputId": "866c6f0e-cb4d-45ab-b8c0-b2e9c944415c"
      },
      "source": [
        "from icrawler.builtin import BingImageCrawler\n",
        "crawler = BingImageCrawler(storage={\"root_dir\": \"magellanicus\"})\n",
        "crawler.crawl(keyword=\"spheniscus magellanicus\", max_num=10)"
      ],
      "execution_count": null,
      "outputs": [
        {
          "output_type": "stream",
          "name": "stderr",
          "text": [
            "2021-11-20 14:23:17,125 - INFO - icrawler.crawler - start crawling...\n",
            "2021-11-20 14:23:17,127 - INFO - icrawler.crawler - starting 1 feeder threads...\n",
            "2021-11-20 14:23:17,133 - INFO - feeder - thread feeder-001 exit\n",
            "2021-11-20 14:23:17,134 - INFO - icrawler.crawler - starting 1 parser threads...\n",
            "2021-11-20 14:23:17,141 - INFO - icrawler.crawler - starting 1 downloader threads...\n",
            "2021-11-20 14:23:17,553 - INFO - parser - parsing result page https://www.bing.com/images/async?q=spheniscus magellanicus&first=0\n",
            "2021-11-20 14:23:17,743 - INFO - downloader - image #1\thttps://birdscolombia.com/wp-content/uploads/2020/02/spheniscus-magellanicus.jpg\n",
            "2021-11-20 14:23:17,919 - INFO - downloader - image #2\thttps://thumbs.dreamstime.com/b/magellanic-penguin-pair-spheniscus-magellanicus-magellanic-spheniscus-magellanicus-118058856.jpg\n",
            "2021-11-20 14:23:18,216 - INFO - downloader - image #3\thttp://animais.culturamix.com/blog/wp-content/gallery/Spheniscus-Magellanicus-1/Spheniscus-Magellanicus-1.jpg\n",
            "2021-11-20 14:23:18,468 - INFO - downloader - image #4\thttps://i.pinimg.com/originals/df/d7/fe/dfd7fe752c650eb6a4c99aaba516bc1b.jpg\n",
            "2021-11-20 14:23:18,975 - INFO - downloader - image #5\thttps://live.staticflickr.com/7165/6812195693_5af636e756_b.jpg\n",
            "2021-11-20 14:23:19,066 - INFO - downloader - image #6\thttps://thumbs.dreamstime.com/b/magellanic-spheniscus-magellanicus-penguin-pair-118058822.jpg\n",
            "2021-11-20 14:23:19,187 - INFO - downloader - image #7\thttps://thumbs.dreamstime.com/z/magelhaenpinguin-magellanic-penguin-spheniscus-magellanicus-op-het-strand-shore-129041869.jpg\n",
            "2021-11-20 14:23:20,033 - INFO - downloader - image #8\thttp://www.chilereisen.at/IMGRegenwald/Pinguin_WA1000.jpg\n",
            "2021-11-20 14:23:20,760 - INFO - downloader - image #9\thttps://avise-birds.bio.uci.edu/sphenisciformes/spheniscidae/spheniscus_magellanicus/images/2mepe.jpg\n",
            "2021-11-20 14:23:20,843 - INFO - downloader - image #10\thttps://i.pinimg.com/originals/4d/48/c8/4d48c8bf60236a5480a46beb389b77c9.jpg\n",
            "2021-11-20 14:23:21,395 - INFO - downloader - downloaded images reach max num, thread downloader-001 is ready to exit\n",
            "2021-11-20 14:23:21,397 - INFO - downloader - thread downloader-001 exit\n",
            "2021-11-20 14:23:22,152 - INFO - icrawler.crawler - Crawling task done!\n"
          ]
        }
      ]
    },
    {
      "cell_type": "code",
      "metadata": {
        "colab": {
          "base_uri": "https://localhost:8080/"
        },
        "id": "9kyLYBHJuTgw",
        "outputId": "c2320f48-8db5-4d87-daff-0799bf049ff4"
      },
      "source": [
        "!pip install icrawler"
      ],
      "execution_count": null,
      "outputs": [
        {
          "output_type": "stream",
          "name": "stdout",
          "text": [
            "Collecting icrawler\n",
            "  Downloading icrawler-0.6.6-py2.py3-none-any.whl (35 kB)\n",
            "Requirement already satisfied: lxml in /usr/local/lib/python3.7/dist-packages (from icrawler) (4.2.6)\n",
            "Requirement already satisfied: beautifulsoup4>=4.4.1 in /usr/local/lib/python3.7/dist-packages (from icrawler) (4.6.3)\n",
            "Requirement already satisfied: Pillow in /usr/local/lib/python3.7/dist-packages (from icrawler) (7.1.2)\n",
            "Requirement already satisfied: six>=1.10.0 in /usr/local/lib/python3.7/dist-packages (from icrawler) (1.15.0)\n",
            "Requirement already satisfied: requests>=2.9.1 in /usr/local/lib/python3.7/dist-packages (from icrawler) (2.23.0)\n",
            "Requirement already satisfied: certifi>=2017.4.17 in /usr/local/lib/python3.7/dist-packages (from requests>=2.9.1->icrawler) (2021.10.8)\n",
            "Requirement already satisfied: idna<3,>=2.5 in /usr/local/lib/python3.7/dist-packages (from requests>=2.9.1->icrawler) (2.10)\n",
            "Requirement already satisfied: urllib3!=1.25.0,!=1.25.1,<1.26,>=1.21.1 in /usr/local/lib/python3.7/dist-packages (from requests>=2.9.1->icrawler) (1.24.3)\n",
            "Requirement already satisfied: chardet<4,>=3.0.2 in /usr/local/lib/python3.7/dist-packages (from requests>=2.9.1->icrawler) (3.0.4)\n",
            "Installing collected packages: icrawler\n",
            "Successfully installed icrawler-0.6.6\n"
          ]
        }
      ]
    }
  ]
}